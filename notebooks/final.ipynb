{
 "cells": [
  {
   "cell_type": "code",
   "execution_count": 1,
   "id": "e040901d-f226-4188-8319-70e800c025fa",
   "metadata": {
    "tags": []
   },
   "outputs": [],
   "source": [
    "import sys\n",
    "\n",
    "sys.path.append(\"/home/jupyter/detection_doublons/src\") # for adding the directory \"src\"\n",
    "from mesures import *\n",
    "from custom_processing import *\n",
    "from visualization import *\n",
    "from custom_hierachical_clustering import *\n",
    "import pickle\n",
    "\n",
    "import copy\n",
    "import re\n",
    "import os\n",
    "\n",
    "from sklearn.metrics import silhouette_score, silhouette_samples\n",
    "from sklearn.metrics import davies_bouldin_score\n",
    "from sklearn.model_selection import ParameterGrid\n",
    "\n",
    "import numpy as np\n",
    "import pandas as pd\n",
    "\n",
    "from typing import Callable, Tuple, Union\n",
    "from time import time\n",
    "from tqdm import tqdm\n",
    "\n",
    "import networkx as nx\n",
    "import gravis as gv\n",
    "import math\n",
    "import random\n",
    "from google.cloud import bigquery\n"
   ]
  },
  {
   "cell_type": "markdown",
   "id": "75984a75-7925-45a8-925c-d2e423312ee5",
   "metadata": {},
   "source": [
    "### Loading the data"
   ]
  },
  {
   "cell_type": "code",
   "execution_count": 2,
   "id": "0a46e75b-ad10-4c23-b82c-7074200fc5db",
   "metadata": {
    "tags": []
   },
   "outputs": [
    {
     "data": {
      "text/plain": [
       "(38076, 9)"
      ]
     },
     "execution_count": 2,
     "metadata": {},
     "output_type": "execute_result"
    }
   ],
   "source": [
    "original_data=pd.read_csv(\"/home/jupyter/detection_doublons/data/gold_fornissor2.csv\")\n",
    "data=original_data.copy()\n",
    "# n_data=data.drop([\"id\", \"confidence_country\",\"confidence_city\", \"Latitude\",\"Longitude\"], axis=1).copy()\n",
    "data.shape"
   ]
  },
  {
   "cell_type": "code",
   "execution_count": 3,
   "id": "3c0362fe-6b90-4870-be85-680e29b1cf32",
   "metadata": {
    "tags": []
   },
   "outputs": [
    {
     "data": {
      "text/plain": [
       "Index(['tiern_location_state_city', 'tiern_name', 'tiern_plant', 'id',\n",
       "       'confidence_country', 'Latitude', 'Longitude', 'Country',\n",
       "       'confidence_city'],\n",
       "      dtype='object')"
      ]
     },
     "execution_count": 3,
     "metadata": {},
     "output_type": "execute_result"
    }
   ],
   "source": [
    "data.columns"
   ]
  },
  {
   "cell_type": "markdown",
   "id": "aa3b4d2c-e54c-4bda-9e61-9b8ef63c4543",
   "metadata": {},
   "source": [
    "### First step processing"
   ]
  },
  {
   "cell_type": "code",
   "execution_count": 4,
   "id": "f021cdb1-f5d2-4030-9d37-a08a7ae9f554",
   "metadata": {
    "tags": []
   },
   "outputs": [
    {
     "name": "stderr",
     "output_type": "stream",
     "text": [
      "100%|██████████| 1/1 [00:00<00:00, 23.84it/s]\n",
      "100%|██████████| 1/1 [00:00<00:00, 11.01it/s]\n"
     ]
    }
   ],
   "source": [
    "cols_to_drop =[\"id\", \"confidence_country\",\"confidence_city\", \"Latitude\",\"Longitude\"]\n",
    "custom_processing = Custom_Processing(drop_cols=cols_to_drop, dataframe=data)\n",
    "custom_processing.fit_transform()"
   ]
  },
  {
   "cell_type": "code",
   "execution_count": 5,
   "id": "19a3680e-f6f6-42a5-ad18-105cbdc68573",
   "metadata": {
    "tags": []
   },
   "outputs": [
    {
     "data": {
      "text/plain": [
       "(38076, 9)"
      ]
     },
     "execution_count": 5,
     "metadata": {},
     "output_type": "execute_result"
    }
   ],
   "source": [
    "data.shape"
   ]
  },
  {
   "cell_type": "code",
   "execution_count": 6,
   "id": "ae0cdd09-1ab2-4e58-b82e-03169a877548",
   "metadata": {
    "tags": []
   },
   "outputs": [
    {
     "data": {
      "text/plain": [
       "6723"
      ]
     },
     "execution_count": 6,
     "metadata": {},
     "output_type": "execute_result"
    }
   ],
   "source": [
    "custom_processing.duplicates_dataframe.shape[0]"
   ]
  },
  {
   "cell_type": "code",
   "execution_count": 7,
   "id": "c6f17cde-9c8d-425c-88a8-1eeee9c6f51a",
   "metadata": {
    "tags": []
   },
   "outputs": [],
   "source": [
    "numbers1 = custom_processing.cont_figure_dataframe\n",
    "numbers1[\"suggested_name\"] = numbers1['tiern_name_preprocessed']\n",
    "numbers1.loc[numbers1.duplicated(['suggested_name', 'tiern_location_state_city', 'Country']) == True, 'category'] = 'duplicates'\n",
    "\n",
    "duplication1 = custom_processing.duplicates_dataframe\n",
    "duplication1 = duplication1.rename(columns = {\"tiern_name_preprocessed\": \"suggested_name\"})\n",
    "\n",
    "special1 = custom_processing.special_char_dataframe\n",
    "# special1[\"suggested_name\"] = special1[\"tiern_name_preprocessed\"]\n",
    "\n",
    "others1 = custom_processing.others_dataframe\n",
    "others1 = others1.rename(columns = {\"tiern_name_preprocessed\": \"suggested_name\"})\n",
    "others1.loc[others1.duplicated(['suggested_name', 'tiern_location_state_city', 'Country']) == True, 'category'] = 'duplicates'\n",
    "\n",
    "processed1 = custom_processing.dataframe\n",
    "# processed1[\"suggested_name\"] = processed1[\"tiern_name_preprocessed\"]"
   ]
  },
  {
   "cell_type": "markdown",
   "id": "d7bbd8f4-598b-4c3c-9c83-826bb41e6b91",
   "metadata": {},
   "source": [
    "#### Cheicking\n",
    "Cheick if no data point are lose during processing"
   ]
  },
  {
   "cell_type": "code",
   "execution_count": 8,
   "id": "a8a8d2a2-75c7-4daa-b1c9-d53a436463d8",
   "metadata": {},
   "outputs": [],
   "source": [
    "assert numbers1.shape[0]  + duplication1.shape[0] + special1.shape[0] + others1.shape[0] + processed1.shape[0] == data.shape[0], \"Some data points have been losen during processing\""
   ]
  },
  {
   "cell_type": "markdown",
   "id": "f2c1e1f3-b998-41d8-a0a0-9925be0c913a",
   "metadata": {
    "tags": []
   },
   "source": [
    "### Second step processing\n",
    "#### Translation \n",
    "special characters dataset contain tiern name with different language which are different from english.<br>\n",
    "To use this part of dta in the raining process, we translate those language into frecnh and then  concatenate it with the previous processed dataset which \n",
    "do not contain duplicates. "
   ]
  },
  {
   "cell_type": "code",
   "execution_count": 9,
   "id": "f148264f-f92b-4d49-8c7c-8433d2110f6d",
   "metadata": {
    "tags": []
   },
   "outputs": [],
   "source": [
    "os.environ['http_proxy'] = 'http://iac-proxy.cnz.renault.gcp:80'\n",
    "os.environ['https_proxy'] = 'http://iac-proxy.cnz.renault.gcp:80'\n",
    "os.environ['HTTP_PROXY'] = 'http://iac-proxy.cnz.renault.gcp:80'\n",
    "os.environ['HTTPS_PROXY'] = 'http://iac-proxy.cnz.renault.gcp:80'"
   ]
  },
  {
   "cell_type": "code",
   "execution_count": 10,
   "id": "9ff8b6d6-bea4-4a0f-aa24-b89c68d82f63",
   "metadata": {
    "tags": []
   },
   "outputs": [
    {
     "name": "stderr",
     "output_type": "stream",
     "text": [
      "100%|██████████| 2/2 [00:35<00:00, 17.88s/it]\n"
     ]
    },
    {
     "data": {
      "text/plain": [
       "(331, 4)"
      ]
     },
     "execution_count": 10,
     "metadata": {},
     "output_type": "execute_result"
    }
   ],
   "source": [
    "special1 = special1.drop([\"tiern_name_preprocessed\"], axis=1)\n",
    "special1 = translation(special1, special_char_cols=['tiern_name', 'tiern_plant'])\n",
    "special1.shape"
   ]
  },
  {
   "cell_type": "markdown",
   "id": "687144bf-8b92-4f6e-bbe0-bde9d8460191",
   "metadata": {
    "tags": []
   },
   "source": [
    "#### Processing2"
   ]
  },
  {
   "cell_type": "code",
   "execution_count": 11,
   "id": "589640dc-a711-44e0-9d41-52b9ef7633bc",
   "metadata": {
    "tags": []
   },
   "outputs": [
    {
     "name": "stderr",
     "output_type": "stream",
     "text": [
      "100%|██████████| 1/1 [00:00<00:00, 429.48it/s]\n",
      "100%|██████████| 1/1 [00:00<00:00, 293.70it/s]\n"
     ]
    }
   ],
   "source": [
    "custom_processing1 = Custom_Processing(dataframe=special1)\n",
    "custom_processing1.fit_transform()"
   ]
  },
  {
   "cell_type": "markdown",
   "id": "c6edbeab-61aa-4468-aeb1-ad11518158b4",
   "metadata": {},
   "source": [
    "#### cheicking"
   ]
  },
  {
   "cell_type": "code",
   "execution_count": 12,
   "id": "496919f0-027d-4716-b667-f1c7d22b31b0",
   "metadata": {
    "tags": []
   },
   "outputs": [],
   "source": [
    "numbers2 = custom_processing1.cont_figure_dataframe\n",
    "numbers2.loc[numbers2.duplicated(['suggested_name', 'tiern_location_state_city', 'Country']) == True, 'category'] = 'duplicates'\n",
    "\n",
    "duplication2 = custom_processing1.duplicates_dataframe\n",
    "duplication2 = duplication2.rename(columns = {\"tiern_name_preprocessed\": \"suggested_name\"})\n",
    "\n",
    "special2 = custom_processing1.special_char_dataframe\n",
    "special2[\"suggested_name\"] = special2[\"tiern_name_preprocessed\"]\n",
    "special2[\"category\"] = 'other'\n",
    "special2.loc[special2.duplicated(['suggested_name', 'tiern_location_state_city', 'Country']) == True, 'category'] = 'duplicates'\n",
    "\n",
    "others2 = custom_processing1.others_dataframe\n",
    "others2 = others2.rename(columns = {\"tiern_name_preprocessed\": \"suggested_name\"})\n",
    "others2.loc[others2.duplicated(['suggested_name', 'tiern_location_state_city', 'Country']) == True, 'category'] = 'duplicates'\n",
    "\n",
    "processed2 = custom_processing1.dataframe\n",
    "# processed2[\"suggested_name\"] = processed2[\"tiern_name_preprocessed\"]"
   ]
  },
  {
   "cell_type": "code",
   "execution_count": 13,
   "id": "787c5343-5022-4ad2-a1fa-112e4e24d65e",
   "metadata": {
    "tags": []
   },
   "outputs": [],
   "source": [
    "assert numbers2.shape[0]  + duplication2.shape[0] + special2.shape[0] + others2.shape[0] + processed2.shape[0] == special1.shape[0],\"Some data points have been losen during processing\""
   ]
  },
  {
   "cell_type": "markdown",
   "id": "91c2e3f8-4463-4582-a044-8305bbaba52a",
   "metadata": {},
   "source": [
    "#### Defining the référence dataset\n",
    "This is the datframe on which some occurence of tiern name of processed data will be seeked"
   ]
  },
  {
   "cell_type": "code",
   "execution_count": 14,
   "id": "1b240463-af11-4018-9f21-647c637077d8",
   "metadata": {
    "tags": []
   },
   "outputs": [
    {
     "data": {
      "text/plain": [
       "(36688, 6)"
      ]
     },
     "execution_count": 14,
     "metadata": {},
     "output_type": "execute_result"
    }
   ],
   "source": [
    "ref = pd.concat((custom_processing.ref_dataframe, custom_processing1.ref_dataframe), axis=0)\n",
    "ref.shape"
   ]
  },
  {
   "cell_type": "markdown",
   "id": "3b2086df-8341-4953-a299-d07b74e6451b",
   "metadata": {
    "tags": []
   },
   "source": [
    "#### Train data\n",
    "Forming the training dataset. It consist of the first processed dataset and the second one (after translating it to the correct langue and processing it too)"
   ]
  },
  {
   "cell_type": "code",
   "execution_count": 15,
   "id": "8347c06b-531f-4933-89fd-b4c0a8d0b676",
   "metadata": {
    "tags": []
   },
   "outputs": [
    {
     "data": {
      "text/plain": [
       "(27746, 6)"
      ]
     },
     "execution_count": 15,
     "metadata": {},
     "output_type": "execute_result"
    }
   ],
   "source": [
    "train_data = pd.concat((processed1, processed2))\n",
    "train_data.shape"
   ]
  },
  {
   "cell_type": "markdown",
   "id": "12981a44-2841-444c-90be-15933e1d5a17",
   "metadata": {},
   "source": [
    "There can be some duplication whithin the training dataset after concatenation, beacause after translation there can be some data point present in the both parts.<br>\n",
    "So those duplication should be drop to have a clean train dataset"
   ]
  },
  {
   "cell_type": "code",
   "execution_count": 16,
   "id": "ce2d0830-b6b2-49f9-8591-3bd391d0c8b4",
   "metadata": {
    "tags": []
   },
   "outputs": [
    {
     "data": {
      "text/plain": [
       "(27736, 6)"
      ]
     },
     "execution_count": 16,
     "metadata": {},
     "output_type": "execute_result"
    }
   ],
   "source": [
    "duplication3 = train_data.drop(index= train_data.drop_duplicates(['tiern_location_state_city', 'Country', 'tiern_name_preprocessed']).index)\n",
    "train_data.drop_duplicates(['tiern_location_state_city', 'Country', 'tiern_name_preprocessed'], inplace=True)\n",
    "duplication3[\"category\"]=\"duplicates\"\n",
    "train_data.shape"
   ]
  },
  {
   "cell_type": "code",
   "execution_count": 17,
   "id": "9d33dca1-8253-4fa5-8677-b927c7cd0ce5",
   "metadata": {
    "tags": []
   },
   "outputs": [
    {
     "data": {
      "text/html": [
       "<div>\n",
       "<style scoped>\n",
       "    .dataframe tbody tr th:only-of-type {\n",
       "        vertical-align: middle;\n",
       "    }\n",
       "\n",
       "    .dataframe tbody tr th {\n",
       "        vertical-align: top;\n",
       "    }\n",
       "\n",
       "    .dataframe thead th {\n",
       "        text-align: right;\n",
       "    }\n",
       "</style>\n",
       "<table border=\"1\" class=\"dataframe\">\n",
       "  <thead>\n",
       "    <tr style=\"text-align: right;\">\n",
       "      <th></th>\n",
       "      <th>tiern_location_state_city</th>\n",
       "      <th>tiern_name</th>\n",
       "      <th>tiern_plant</th>\n",
       "      <th>Country</th>\n",
       "      <th>tiern_name_preprocessed</th>\n",
       "      <th>chars</th>\n",
       "      <th>category</th>\n",
       "    </tr>\n",
       "  </thead>\n",
       "  <tbody>\n",
       "    <tr>\n",
       "      <th>58</th>\n",
       "      <td>hubei</td>\n",
       "      <td>baowu steel</td>\n",
       "      <td>wuhan factory</td>\n",
       "      <td>china</td>\n",
       "      <td>wuhan factory baowu steel</td>\n",
       "      <td>wuhanfactorybaowusteel</td>\n",
       "      <td>duplicates</td>\n",
       "    </tr>\n",
       "    <tr>\n",
       "      <th>65</th>\n",
       "      <td>hubei</td>\n",
       "      <td>shiyan stands tall</td>\n",
       "      <td>shiyan stands tall</td>\n",
       "      <td>china</td>\n",
       "      <td>shiyan stands tall</td>\n",
       "      <td>shiyanstandstall</td>\n",
       "      <td>duplicates</td>\n",
       "    </tr>\n",
       "    <tr>\n",
       "      <th>73</th>\n",
       "      <td>hubei</td>\n",
       "      <td>anhui kairui</td>\n",
       "      <td>shiyan factory</td>\n",
       "      <td>china</td>\n",
       "      <td>shiyan factory anhui kairui</td>\n",
       "      <td>shiyanfactoryanhuikairui</td>\n",
       "      <td>duplicates</td>\n",
       "    </tr>\n",
       "    <tr>\n",
       "      <th>154</th>\n",
       "      <td>wuhan</td>\n",
       "      <td>wuhan blonde</td>\n",
       "      <td>wuhan blonde</td>\n",
       "      <td>china</td>\n",
       "      <td>blonde</td>\n",
       "      <td>blonde</td>\n",
       "      <td>duplicates</td>\n",
       "    </tr>\n",
       "    <tr>\n",
       "      <th>1814</th>\n",
       "      <td>shanghai</td>\n",
       "      <td>baosteel</td>\n",
       "      <td>baosteel</td>\n",
       "      <td>china</td>\n",
       "      <td>baosteel</td>\n",
       "      <td>baosteel</td>\n",
       "      <td>duplicates</td>\n",
       "    </tr>\n",
       "    <tr>\n",
       "      <th>20142</th>\n",
       "      <td>moscow</td>\n",
       "      <td>npp itelma</td>\n",
       "      <td>npp itelma</td>\n",
       "      <td>russia</td>\n",
       "      <td>npp itelma</td>\n",
       "      <td>nppitelma</td>\n",
       "      <td>duplicates</td>\n",
       "    </tr>\n",
       "    <tr>\n",
       "      <th>20449</th>\n",
       "      <td>magnitogorsk</td>\n",
       "      <td>mmk</td>\n",
       "      <td>mmk</td>\n",
       "      <td>russia</td>\n",
       "      <td>mmk</td>\n",
       "      <td>mmk</td>\n",
       "      <td>duplicates</td>\n",
       "    </tr>\n",
       "    <tr>\n",
       "      <th>12156</th>\n",
       "      <td>guangrong</td>\n",
       "      <td>bocan bocan</td>\n",
       "      <td>bocan bocan</td>\n",
       "      <td>china</td>\n",
       "      <td>bocan</td>\n",
       "      <td>bocan</td>\n",
       "      <td>duplicates</td>\n",
       "    </tr>\n",
       "    <tr>\n",
       "      <th>20443</th>\n",
       "      <td>magnitogorsk</td>\n",
       "      <td>techinveststroy mmk</td>\n",
       "      <td>mmk</td>\n",
       "      <td>russia</td>\n",
       "      <td>mmk techinveststroy</td>\n",
       "      <td>mmktechinveststroy</td>\n",
       "      <td>duplicates</td>\n",
       "    </tr>\n",
       "    <tr>\n",
       "      <th>24440</th>\n",
       "      <td>yelabuga</td>\n",
       "      <td>mmk coskunoz</td>\n",
       "      <td>mmk coskunoz</td>\n",
       "      <td>russia</td>\n",
       "      <td>mmk coskunoz</td>\n",
       "      <td>mmkcoskunoz</td>\n",
       "      <td>duplicates</td>\n",
       "    </tr>\n",
       "  </tbody>\n",
       "</table>\n",
       "</div>"
      ],
      "text/plain": [
       "      tiern_location_state_city           tiern_name         tiern_plant  \\\n",
       "58                        hubei          baowu steel       wuhan factory   \n",
       "65                        hubei   shiyan stands tall  shiyan stands tall   \n",
       "73                        hubei         anhui kairui      shiyan factory   \n",
       "154                       wuhan         wuhan blonde        wuhan blonde   \n",
       "1814                   shanghai             baosteel            baosteel   \n",
       "20142                    moscow           npp itelma          npp itelma   \n",
       "20449              magnitogorsk                  mmk                 mmk   \n",
       "12156                 guangrong          bocan bocan         bocan bocan   \n",
       "20443              magnitogorsk  techinveststroy mmk                 mmk   \n",
       "24440                  yelabuga         mmk coskunoz        mmk coskunoz   \n",
       "\n",
       "      Country      tiern_name_preprocessed                     chars  \\\n",
       "58      china    wuhan factory baowu steel    wuhanfactorybaowusteel   \n",
       "65      china           shiyan stands tall          shiyanstandstall   \n",
       "73      china  shiyan factory anhui kairui  shiyanfactoryanhuikairui   \n",
       "154     china                       blonde                    blonde   \n",
       "1814    china                     baosteel                  baosteel   \n",
       "20142  russia                   npp itelma                 nppitelma   \n",
       "20449  russia                          mmk                       mmk   \n",
       "12156   china                        bocan                     bocan   \n",
       "20443  russia          mmk techinveststroy        mmktechinveststroy   \n",
       "24440  russia                 mmk coskunoz               mmkcoskunoz   \n",
       "\n",
       "         category  \n",
       "58     duplicates  \n",
       "65     duplicates  \n",
       "73     duplicates  \n",
       "154    duplicates  \n",
       "1814   duplicates  \n",
       "20142  duplicates  \n",
       "20449  duplicates  \n",
       "12156  duplicates  \n",
       "20443  duplicates  \n",
       "24440  duplicates  "
      ]
     },
     "execution_count": 17,
     "metadata": {},
     "output_type": "execute_result"
    }
   ],
   "source": [
    "duplication3"
   ]
  },
  {
   "cell_type": "markdown",
   "id": "93b77df8-26bc-47aa-aeba-cb438630afbd",
   "metadata": {},
   "source": [
    "#### Training\n",
    "During training process somme duplicates can be detect and there can also be some clusters which contain only a single data point. <br>\n",
    "For the purpose of suggesting the correct name within a cluster, all single data point whithin clusters are save whithin the same dataframe and the other hand all detected duplicates are save within dataframe different from the first one."
   ]
  },
  {
   "cell_type": "code",
   "execution_count": null,
   "id": "48b9625d-0c84-481d-b654-1cf380099146",
   "metadata": {
    "scrolled": true,
    "tags": []
   },
   "outputs": [
    {
     "name": "stderr",
     "output_type": "stream",
     "text": [
      "\n",
      "  0%|          | 0/2753 [00:00<?, ?it/s]\u001b[A\n",
      "  1%|          | 32/2753 [00:00<00:48, 56.63it/s]\u001b[A\n",
      "  2%|▏         | 64/2753 [00:01<01:16, 35.28it/s]\u001b[A\n",
      "  3%|▎         | 96/2753 [00:03<01:37, 27.36it/s]\u001b[A\n",
      "  5%|▍         | 128/2753 [00:04<01:27, 30.11it/s]\u001b[A\n",
      "  6%|▌         | 160/2753 [00:05<01:38, 26.27it/s]\u001b[A\n",
      "  7%|▋         | 192/2753 [00:07<01:43, 24.84it/s]\u001b[A\n",
      "  8%|▊         | 224/2753 [00:08<01:44, 24.18it/s]\u001b[A\n",
      "  9%|▉         | 256/2753 [00:09<01:45, 23.64it/s]\u001b[A\n",
      " 10%|█         | 288/2753 [00:11<01:46, 23.10it/s]\u001b[A\n",
      " 12%|█▏        | 320/2753 [00:12<01:40, 24.28it/s]\u001b[A\n",
      " 13%|█▎        | 352/2753 [00:13<01:39, 24.05it/s]\u001b[A\n",
      " 14%|█▍        | 384/2753 [00:15<01:38, 24.16it/s]\u001b[A\n",
      " 15%|█▌        | 416/2753 [00:16<01:34, 24.84it/s]\u001b[A\n",
      " 16%|█▋        | 448/2753 [00:17<01:31, 25.16it/s]\u001b[A\n",
      " 17%|█▋        | 480/2753 [00:18<01:31, 24.92it/s]\u001b[A\n",
      " 19%|█▊        | 512/2753 [00:20<01:29, 24.93it/s]\u001b[A\n",
      " 20%|█▉        | 544/2753 [00:21<01:27, 25.30it/s]\u001b[A\n",
      " 21%|██        | 576/2753 [00:22<01:27, 25.00it/s]\u001b[A\n",
      " 22%|██▏       | 608/2753 [00:23<01:23, 25.84it/s]\u001b[A\n",
      " 23%|██▎       | 640/2753 [00:25<01:22, 25.69it/s]\u001b[A\n",
      " 24%|██▍       | 672/2753 [00:26<01:22, 25.20it/s]\u001b[A\n",
      " 26%|██▌       | 704/2753 [00:27<01:20, 25.54it/s]\u001b[A\n",
      " 27%|██▋       | 736/2753 [00:28<01:20, 25.03it/s]\u001b[A\n",
      " 28%|██▊       | 768/2753 [00:30<01:18, 25.39it/s]\u001b[A\n",
      " 29%|██▉       | 800/2753 [00:31<01:17, 25.15it/s]\u001b[A\n",
      " 30%|███       | 832/2753 [00:32<01:16, 25.25it/s]\u001b[A\n",
      " 31%|███▏      | 864/2753 [00:34<01:14, 25.26it/s]\u001b[A\n",
      " 33%|███▎      | 896/2753 [00:35<01:12, 25.47it/s]\u001b[A\n",
      " 34%|███▎      | 928/2753 [00:36<01:12, 25.10it/s]\u001b[A\n",
      " 35%|███▍      | 960/2753 [00:37<01:09, 25.81it/s]\u001b[A\n",
      " 36%|███▌      | 992/2753 [00:39<01:08, 25.60it/s]\u001b[A\n",
      " 37%|███▋      | 1024/2753 [00:40<01:07, 25.61it/s]\u001b[A\n",
      " 38%|███▊      | 1056/2753 [00:41<01:06, 25.44it/s]\u001b[A\n",
      " 40%|███▉      | 1088/2753 [00:42<01:05, 25.33it/s]\u001b[A\n",
      " 41%|████      | 1120/2753 [00:44<01:03, 25.59it/s]\u001b[A\n",
      " 42%|████▏     | 1152/2753 [00:45<01:02, 25.44it/s]\u001b[A\n",
      " 43%|████▎     | 1184/2753 [00:46<01:01, 25.35it/s]\u001b[A\n",
      " 44%|████▍     | 1216/2753 [00:47<01:00, 25.24it/s]\u001b[A\n",
      " 45%|████▌     | 1248/2753 [00:49<01:00, 24.85it/s]\u001b[A\n",
      " 46%|████▋     | 1280/2753 [00:50<00:58, 25.19it/s]\u001b[A\n",
      " 48%|████▊     | 1312/2753 [00:51<00:57, 25.12it/s]\u001b[A\n",
      " 49%|████▉     | 1344/2753 [00:52<00:55, 25.34it/s]\u001b[A\n",
      " 50%|████▉     | 1376/2753 [00:54<00:54, 25.25it/s]\u001b[A\n",
      " 51%|█████     | 1408/2753 [00:55<00:53, 25.37it/s]\u001b[A\n",
      " 52%|█████▏    | 1440/2753 [00:56<00:52, 25.03it/s]\u001b[A\n",
      " 53%|█████▎    | 1472/2753 [00:58<00:50, 25.25it/s]\u001b[A\n",
      " 55%|█████▍    | 1504/2753 [00:59<00:49, 25.01it/s]\u001b[A\n",
      " 56%|█████▌    | 1536/2753 [01:00<00:49, 24.55it/s]\u001b[A\n",
      " 57%|█████▋    | 1568/2753 [01:01<00:48, 24.57it/s]\u001b[A\n",
      " 58%|█████▊    | 1600/2753 [01:03<00:46, 24.63it/s]\u001b[A\n",
      " 59%|█████▉    | 1632/2753 [01:04<00:45, 24.61it/s]\u001b[A\n",
      " 60%|██████    | 1664/2753 [01:05<00:43, 24.97it/s]\u001b[A\n",
      " 62%|██████▏   | 1696/2753 [01:07<00:42, 24.78it/s]\u001b[A\n",
      " 63%|██████▎   | 1728/2753 [01:08<00:40, 25.23it/s]\u001b[A\n",
      " 64%|██████▍   | 1760/2753 [01:09<00:39, 25.19it/s]\u001b[A\n",
      " 65%|██████▌   | 1792/2753 [01:10<00:37, 25.34it/s]\u001b[A\n",
      " 66%|██████▋   | 1824/2753 [01:12<00:35, 25.91it/s]\u001b[A\n",
      " 67%|██████▋   | 1856/2753 [01:13<00:35, 25.23it/s]\u001b[A\n",
      " 69%|██████▊   | 1888/2753 [01:14<00:34, 25.05it/s]\u001b[A\n",
      " 70%|██████▉   | 1920/2753 [01:15<00:33, 25.13it/s]\u001b[A\n",
      " 71%|███████   | 1952/2753 [01:17<00:31, 25.40it/s]\u001b[A\n",
      " 72%|███████▏  | 1984/2753 [01:18<00:30, 25.22it/s]\u001b[A\n",
      " 73%|███████▎  | 2016/2753 [01:19<00:29, 24.98it/s]\u001b[A\n",
      " 74%|███████▍  | 2048/2753 [01:21<00:28, 24.75it/s]\u001b[A\n",
      " 76%|███████▌  | 2080/2753 [01:22<00:26, 25.40it/s]\u001b[A\n",
      " 77%|███████▋  | 2112/2753 [01:23<00:24, 25.72it/s]\u001b[A\n",
      " 78%|███████▊  | 2144/2753 [01:24<00:23, 25.83it/s]\u001b[A\n",
      " 79%|███████▉  | 2176/2753 [01:25<00:22, 25.65it/s]\u001b[A\n",
      " 80%|████████  | 2208/2753 [01:27<00:21, 25.13it/s]\u001b[A\n",
      " 81%|████████▏ | 2240/2753 [01:28<00:20, 24.68it/s]\u001b[A\n",
      " 83%|████████▎ | 2272/2753 [01:29<00:19, 24.96it/s]\u001b[A\n",
      " 84%|████████▎ | 2304/2753 [01:31<00:17, 25.18it/s]\u001b[A\n",
      " 85%|████████▍ | 2336/2753 [01:32<00:16, 25.78it/s]\u001b[A\n",
      " 86%|████████▌ | 2368/2753 [01:33<00:15, 25.29it/s]\u001b[A\n",
      " 87%|████████▋ | 2400/2753 [01:34<00:14, 25.06it/s]\u001b[A\n",
      " 88%|████████▊ | 2432/2753 [01:36<00:12, 25.56it/s]\u001b[A\n",
      " 90%|████████▉ | 2464/2753 [01:37<00:11, 25.36it/s]\u001b[A\n",
      " 91%|█████████ | 2496/2753 [01:38<00:10, 25.61it/s]\u001b[A\n",
      " 92%|█████████▏| 2528/2753 [01:39<00:08, 25.30it/s]\u001b[A\n",
      " 93%|█████████▎| 2560/2753 [01:41<00:07, 24.22it/s]\u001b[A\n",
      " 94%|█████████▍| 2592/2753 [01:42<00:06, 24.94it/s]\u001b[A\n",
      " 95%|█████████▌| 2624/2753 [01:43<00:05, 24.70it/s]\u001b[A\n",
      " 96%|█████████▋| 2656/2753 [01:45<00:04, 22.86it/s]\u001b[A\n",
      " 98%|█████████▊| 2688/2753 [01:46<00:02, 24.23it/s]\u001b[A\n",
      " 99%|█████████▉| 2720/2753 [01:47<00:01, 24.54it/s]\u001b[A\n",
      "100%|██████████| 2753/2753 [01:49<00:00, 25.21it/s]\u001b[A\n"
     ]
    }
   ],
   "source": [
    "distance_threshold = 0.1\n",
    "model_city = Agglomerative_Hierachical_Clustering(distance_threshold=distance_threshold, linkage =\"average\", metric = damerau_levenshtein_distance, normalize_metric=True)\n",
    "path1=f\"/home/jupyter/detection_doublons/data/final2/tatal_{str(distance_threshold).replace('.', '_')}_doublons_.csv\"\n",
    "path2=f\"/home/jupyter/detection_doublons/data/final2/tatal_{str(distance_threshold)  .replace('.', '_')}_singles_.csv\"\n",
    "# #model_city.fit_per_city(traain_data.groupby([\"Country\", \"tiern_location_state_city\"]).filter(lambda x : len(x) <=4 and len(x) >2), path1=path1, path2= path2\n",
    "model_city.fit_per_city(train_data, path1=path1, path2= path2)\n"
   ]
  },
  {
   "cell_type": "code",
   "execution_count": null,
   "id": "2cd7b5f7-7c9f-4c18-9c9f-e411ade9d4ab",
   "metadata": {
    "tags": []
   },
   "outputs": [],
   "source": [
    "dataframe = pd.read_csv(path1)\n",
    "single_dataframe = pd.read_csv(path2)\n",
    "dataframe1 = dataframe.drop_duplicates(['country', 'city', 'duplication_id'])\n",
    "\n",
    "dataframe[\"suggested_name\"] = dataframe[\"tiern_name_preprocessed\"]\n",
    "dataframe.shape"
   ]
  },
  {
   "cell_type": "code",
   "execution_count": null,
   "id": "e419326a-a65b-41c4-9b24-23796783099c",
   "metadata": {
    "tags": []
   },
   "outputs": [],
   "source": [
    "np.unique(grouped['counts'])"
   ]
  },
  {
   "cell_type": "code",
   "execution_count": null,
   "id": "9213bde4-99d4-4644-bdcf-d60d06f5bd56",
   "metadata": {
    "tags": []
   },
   "outputs": [],
   "source": [
    "# dataframe.groupby(['duplication_id'])\n",
    "grouped = dataframe.groupby(['country','city','duplication_id']).size().reset_index(name='counts')\n",
    "max_count = grouped['counts'].max()  \n",
    "max_groups = grouped[grouped['counts'].isin([3, 4, 5])]\n",
    "result = dataframe[dataframe['duplication_id'].isin(max_groups['duplication_id'])]\n",
    "result.tail(10)"
   ]
  },
  {
   "cell_type": "code",
   "execution_count": null,
   "id": "6bf23601-4ddf-4947-8cd2-f7e2e55c6f0c",
   "metadata": {
    "tags": []
   },
   "outputs": [],
   "source": [
    "assert single_dataframe.shape[0] + dataframe.shape[0] == train_data.shape[0], f\"single_dataframe.shape[0] + dataframe.shape[0] = {single_dataframe.shape[0] + dataframe.shape[0]} is differente from train_data.shape[0] = {train_data.shape[0]}, whiche is abnormal\" "
   ]
  },
  {
   "cell_type": "markdown",
   "id": "34f3b670-fdf1-43e6-8091-6925f1a2ed85",
   "metadata": {},
   "source": [
    "#### Processing the dupliction dataframe\n",
    "##### Occurrence determination\n"
   ]
  },
  {
   "cell_type": "code",
   "execution_count": null,
   "id": "2e1b3cf9-f23a-4d82-b87d-512944ac2bcb",
   "metadata": {
    "tags": []
   },
   "outputs": [],
   "source": [
    "inter_dataframe = occurrences(ref_dataframe = ref, processing_dataframe = result, col ='tiern_name_preprocessed')"
   ]
  },
  {
   "cell_type": "code",
   "execution_count": null,
   "id": "65d5f6f4-9b88-43e9-afbe-828e496b7f3a",
   "metadata": {
    "tags": []
   },
   "outputs": [],
   "source": [
    "inter_dataframe.tail(10)"
   ]
  },
  {
   "cell_type": "code",
   "execution_count": null,
   "id": "00ad9193-f2ab-4e9e-aa78-dc590dc22c96",
   "metadata": {
    "tags": []
   },
   "outputs": [],
   "source": [
    "ref.columns"
   ]
  },
  {
   "cell_type": "markdown",
   "id": "a88c5ce4-c5f3-4b28-8b09-faa4ea9097c4",
   "metadata": {},
   "source": [
    "##### Making suggestion "
   ]
  },
  {
   "cell_type": "code",
   "execution_count": null,
   "id": "5119b429-514e-4572-8a98-23faadec432b",
   "metadata": {
    "tags": []
   },
   "outputs": [],
   "source": [
    "suggested_dataframe = inter_dataframe.groupby(\"duplication_id\").apply(suggest_group_name,tiern_name='tiern_name_preprocessed').reset_index(drop=True)"
   ]
  },
  {
   "cell_type": "code",
   "execution_count": null,
   "id": "8d7f985a-3f85-43a3-89fd-f3511addb4da",
   "metadata": {
    "tags": []
   },
   "outputs": [],
   "source": [
    "suggested_dataframe[suggested_dataframe['occurrence'] > 1].tail(10)"
   ]
  },
  {
   "cell_type": "code",
   "execution_count": null,
   "id": "1b9c4027-4940-4e47-ab51-0d03d6f70c8b",
   "metadata": {
    "tags": []
   },
   "outputs": [],
   "source": [
    "suggested_dataframe.tail(10)"
   ]
  },
  {
   "cell_type": "code",
   "execution_count": null,
   "id": "0be7ae34-5bbf-4b69-a5d9-a65d64558c94",
   "metadata": {},
   "outputs": [],
   "source": [
    "\n",
    "assert inter_dataframe.shape[0] == dataframe.shape[0], f\"The occurence dataframe must have the same size as the duplication dataframe, but one have inter_dataframe.shape[0] = {inter_dataframe.shape[0]} and  dataframe.shape[0] = { dataframe.shape[0]}\"\n",
    "assert suggested_dataframe.shape[0] == dataframe.shape[0], f\"The suggested dataframe must have the same size as the duplication dataframe, but one have suggested_dataframe.shape[0] = {suggested_dataframe.shape[0]} and  dataframe.shape[0] = { dataframe.shape[0]}\""
   ]
  },
  {
   "cell_type": "markdown",
   "id": "a7cac9f8-aeb0-4b93-8c61-91bcf075939c",
   "metadata": {},
   "source": [
    "### final processing"
   ]
  },
  {
   "cell_type": "code",
   "execution_count": null,
   "id": "ea99ef29-3e00-4564-b305-54d7986e8691",
   "metadata": {
    "tags": []
   },
   "outputs": [],
   "source": [
    "final_dataframe = suggested_dataframe.drop([\"duplication_id\", \"occurrence\"], axis=1)\n",
    "final_dataframe[\"category\"] = \"processed\"\n",
    "final_dataframe"
   ]
  },
  {
   "cell_type": "code",
   "execution_count": null,
   "id": "c8956963-f2ab-43c2-acdc-78ebd9607ad4",
   "metadata": {},
   "outputs": [],
   "source": [
    "assert final_dataframe.shape[0] == dataframe.shape[0], f\"final_dataframe must have the same size as the duplication dataframe, but one have final_dataframe.shape[0] = {final_dataframe.shape[0]} and  dataframe.shape[0] = { dataframe.shape[0]}\""
   ]
  },
  {
   "cell_type": "code",
   "execution_count": null,
   "id": "69f20585-f150-49b2-b134-e94f3cbbc673",
   "metadata": {
    "tags": []
   },
   "outputs": [],
   "source": [
    "processed_dataframe4 = final_dataframe.drop_duplicates([\"country\", \"city\", \"suggested_name\"])\n",
    "duplication4 = final_dataframe.drop(index=processed_dataframe4.index, axis=0)\n",
    "duplication4[\"category\"] =\"duplicates\"\n",
    "\n",
    "single_dataframe = pd.read_csv(path2)\n",
    "single_dataframe[\"category\"] = \"processed\"\n",
    "duplication4"
   ]
  },
  {
   "cell_type": "code",
   "execution_count": null,
   "id": "a754497a-7d9a-489f-876c-e7dd046cb2ea",
   "metadata": {
    "tags": []
   },
   "outputs": [],
   "source": []
  },
  {
   "cell_type": "code",
   "execution_count": null,
   "id": "5fc8ddb3-b014-4af1-8ca9-91b61be886d3",
   "metadata": {
    "tags": []
   },
   "outputs": [],
   "source": [
    "others = pd.concat((others1, others2, special2))\n",
    "others = others.rename(columns={\"Country\" : 'country',\"tiern_location_state_city\": 'city'}) # Renaming some columns\n",
    "others = others[list(single_dataframe.columns)]  # order the columns in the disired order\n",
    "\n",
    "numbers1 = numbers1.rename( columns={\"Country\" : 'country',\"tiern_location_state_city\": 'city'})  # Renaming some columns\n",
    "numbers1 = numbers1[list(single_dataframe.columns)] # order the columns in the disired order\n"
   ]
  },
  {
   "cell_type": "code",
   "execution_count": null,
   "id": "1cafeeec-313f-4071-8a0f-ca2f15404c9c",
   "metadata": {
    "tags": []
   },
   "outputs": [],
   "source": [
    "duplication5 = pd.concat((numbers1.drop(index = numbers1.drop_duplicates([\"country\", \"city\", \"suggested_name\"]).index),\n",
    "                          others.drop(index = others.drop_duplicates([\"country\", \"city\", \"suggested_name\"]).index)), axis=0)\n",
    "\n",
    "numbers1.drop_duplicates([\"country\", \"city\", \"suggested_name\"], inplace=True)\n",
    "others.drop_duplicates([\"country\", \"city\", \"suggested_name\"], inplace=True)\n",
    "duplication5['category'] = \"duplicates\"\n",
    "duplication5"
   ]
  },
  {
   "cell_type": "code",
   "execution_count": null,
   "id": "8b2f3632-2028-4440-ab64-fe264abaad73",
   "metadata": {
    "tags": []
   },
   "outputs": [],
   "source": [
    "duplication_dataframe = pd.concat((duplication1, duplication2, duplication3), axis=0)\n",
    "duplication_dataframe.drop(['chars'], axis= 1, inplace=True)\n",
    "duplication_dataframe = duplication_dataframe.rename( columns={\"Country\" : 'country',\"tiern_location_state_city\": 'city'})\n",
    "duplication_dataframe = duplication_dataframe[list(single_dataframe.columns)]\n",
    "duplication_dataframe = pd.concat((duplication_dataframe, duplication4,duplication5), axis = 0)\n",
    "\n",
    "final_processed_dataframe= pd.concat((single_dataframe,processed_dataframe4, others, numbers1, duplication_dataframe), axis=0)\n",
    "\n",
    "final_processed_dataframe"
   ]
  },
  {
   "cell_type": "code",
   "execution_count": null,
   "id": "d92933c2-95bc-4c8e-9bab-79b6330b7e88",
   "metadata": {
    "tags": []
   },
   "outputs": [],
   "source": [
    "final_processed_dataframe['similarity_score']= round(1- distance_threshold, 1)\n",
    "final_processed_dataframe.drop([\"tiern_name_preprocessed\"], axis=1, inplace=True)"
   ]
  },
  {
   "cell_type": "code",
   "execution_count": null,
   "id": "219f1dd1-5073-42a3-a118-49735f9dc7c1",
   "metadata": {
    "tags": []
   },
   "outputs": [],
   "source": [
    "final_processed_dataframe.loc[final_processed_dataframe.isnull()[\"category\"], :].tail(20)"
   ]
  },
  {
   "cell_type": "code",
   "execution_count": null,
   "id": "f3832b76-780d-4c44-a1dc-d14a23a9b203",
   "metadata": {
    "tags": []
   },
   "outputs": [],
   "source": [
    "data[\"tiern_location_state_city\"] = data[\"tiern_location_state_city\"].replace({\n",
    "    'Frankfurt (Oder)': 'frankfurt oder', \n",
    "    'Charleville-Mézières': 'Charleville Mézières'\n",
    "})\n",
    "\n",
    "data[\"tiern_location_state_city\"] = data[\"tiern_location_state_city\"].str.lower().str.strip()\n",
    "data[\"Country\"] = data[\"Country\"].str.lower().str.strip()\n",
    "\n",
    "data = data.rename(columns={\n",
    "    \"tiern_location_state_city\" : \"city\",\n",
    "    \"Country\" : \"country\",\n",
    "    \"Latitude\" : \"latitude\",\n",
    "    \"Longitude\" : \"longitude\",\n",
    "    \n",
    "})"
   ]
  },
  {
   "cell_type": "code",
   "execution_count": null,
   "id": "2640f77f-599e-41cc-aaeb-43cc5d99c194",
   "metadata": {
    "tags": []
   },
   "outputs": [],
   "source": [
    "final_processed_dataframe = final_processed_dataframe.merge(data[['country', 'city','longitude', 'latitude']].drop_duplicates(['country', 'city']), on=['country', 'city'], how='inner')\n",
    "final_processed_dataframe.shape"
   ]
  },
  {
   "cell_type": "code",
   "execution_count": null,
   "id": "bb0bb549-a8e3-4672-9b90-ec5dab495ab1",
   "metadata": {
    "tags": []
   },
   "outputs": [],
   "source": [
    "final_processed_dataframe.columns"
   ]
  },
  {
   "cell_type": "code",
   "execution_count": null,
   "id": "a59d1c3c-5a77-4fc3-b383-d5c943bb8b69",
   "metadata": {
    "tags": []
   },
   "outputs": [],
   "source": [
    "final_processed_dataframe.isnull().sum()"
   ]
  },
  {
   "cell_type": "code",
   "execution_count": null,
   "id": "98e696fa-067f-4503-9a07-f3bc2d141583",
   "metadata": {},
   "outputs": [],
   "source": [
    "path=f\"/home/jupyter/detection_doublons/data/final2/tatal_{str(distance_threshold).replace('.', '_')}_total.csv\"\n",
    "final_processed_dataframe.to_csv(path, index=False)"
   ]
  },
  {
   "cell_type": "code",
   "execution_count": null,
   "id": "37abbdd3-2e26-4ed2-b80c-c7993052374b",
   "metadata": {
    "tags": []
   },
   "outputs": [],
   "source": [
    "final_processed_dataframe[final_processed_dataframe['category'] == 'duplicates'].shape[0] / final_processed_dataframe.shape[0]  * 100"
   ]
  },
  {
   "cell_type": "code",
   "execution_count": null,
   "id": "f0ed0a14-60e4-4d5a-9e98-42a2aa7236f1",
   "metadata": {
    "tags": []
   },
   "outputs": [],
   "source": [
    "final_processed_dataframe[final_processed_dataframe['category'] == 'duplicates'].shape[0] - final_processed_dataframe.shape[0]"
   ]
  },
  {
   "cell_type": "code",
   "execution_count": null,
   "id": "2ae219bb-1cdc-46f6-b0fb-d5934953dd4a",
   "metadata": {},
   "outputs": [],
   "source": []
  },
  {
   "cell_type": "code",
   "execution_count": null,
   "id": "56a051da-d35f-4487-95f3-ccb08904c612",
   "metadata": {},
   "outputs": [],
   "source": []
  },
  {
   "cell_type": "code",
   "execution_count": null,
   "id": "4bedb381-cb54-4642-8237-8763a32fbf0d",
   "metadata": {},
   "outputs": [],
   "source": []
  },
  {
   "cell_type": "code",
   "execution_count": null,
   "id": "a450e85e-1f0e-487f-adc9-8d59e97d4413",
   "metadata": {
    "tags": []
   },
   "outputs": [],
   "source": [
    "assert final_processed_dataframe.shape[0] == data.shape[0], f\"final_processed_dataframe.shape[0] = {final_processed_dataframe.shape[0]} must be equal to data.shape[0] = {data.shape[0]}\"\n",
    "final_processed_dataframe.shape"
   ]
  },
  {
   "cell_type": "markdown",
   "id": "f2d93318-60fb-46c3-96bc-f8086830ad61",
   "metadata": {},
   "source": [
    "###  Duplication percentage"
   ]
  },
  {
   "cell_type": "code",
   "execution_count": null,
   "id": "c38b8f77-f97f-4d6e-91ac-35ed3ebf2209",
   "metadata": {
    "tags": []
   },
   "outputs": [],
   "source": [
    "str(round(final_processed_dataframe.loc[final_processed_dataframe[\"category\"]==\"duplicates\", :].shape[0]/58005 *100,2)) + f\"% of duplicates\""
   ]
  },
  {
   "cell_type": "code",
   "execution_count": null,
   "id": "b794c107-da9f-4f6d-af61-ea44f1903954",
   "metadata": {},
   "outputs": [],
   "source": [
    "list_of_distance = [round(0.1 * i, 1) for i in range(1, 7)]\n",
    "total = None \n",
    "\n",
    "for distance_threshold in list_of_distance:\n",
    "    path=f\"/home/jupyter/detection_doublons/data/final/tatal_{str(distance_threshold).replace('.', '_')}_total.csv\"\n",
    "    dataframe= pd.read_csv(path)\n",
    "    \n",
    "    total = pd.concat((total, dataframe), axis=0)\n",
    "\n",
    "print(total.shape)\n",
    "total[\"suggested_name\"]= total[\"suggest\"]\n",
    "total[\"similarity_score\"] = round(1 - total[\"distance_threshold\"], 1)\n",
    "total.drop(columns =[\"suggest\",\"distance_threshold\"], inplace=True)\n",
    "total.shape[0] == 58005 * 6"
   ]
  },
  {
   "cell_type": "code",
   "execution_count": null,
   "id": "6ce8f7e4-80ca-45d8-a8ac-fb45a9ba9e05",
   "metadata": {
    "tags": []
   },
   "outputs": [],
   "source": [
    "np.unique(total['similarity_score'])"
   ]
  }
 ],
 "metadata": {
  "environment": {
   "kernel": "python3",
   "name": ".m119",
   "type": "gcloud",
   "uri": "us-docker.pkg.dev/deeplearning-platform-release/gcr.io/:m119"
  },
  "kernelspec": {
   "display_name": "Python 3 (Local)",
   "language": "python",
   "name": "python3"
  },
  "language_info": {
   "codemirror_mode": {
    "name": "ipython",
    "version": 3
   },
   "file_extension": ".py",
   "mimetype": "text/x-python",
   "name": "python",
   "nbconvert_exporter": "python",
   "pygments_lexer": "ipython3",
   "version": "3.10.14"
  },
  "widgets": {
   "application/vnd.jupyter.widget-state+json": {
    "state": {},
    "version_major": 2,
    "version_minor": 0
   }
  }
 },
 "nbformat": 4,
 "nbformat_minor": 5
}
